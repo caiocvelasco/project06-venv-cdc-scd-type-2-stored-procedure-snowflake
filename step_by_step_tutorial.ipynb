{
 "cells": [
  {
   "cell_type": "markdown",
   "metadata": {},
   "source": [
    "# Implementing an SCD Type 2 dimension from a CDC source using Snowflakes's Stored procedure and Data Quality Checks \n",
    "\n",
    "<img src = \"img/stored_procedure_scd_type_2.jpg\">"
   ]
  },
  {
   "cell_type": "markdown",
   "metadata": {},
   "source": [
    "## SCD Type 2 Table"
   ]
  },
  {
   "cell_type": "markdown",
   "metadata": {},
   "source": [
    "### Source Data (PRODUCT_STATUS_CDC table)\n",
    "\n",
    "| PRODUCT_KEY | STATUS | CHANGE_TYPE | CHANGE_TIME           | CDC_LOG_POSITION |\n",
    "|-------------|--------|-------------|------------------------|-------------------|\n",
    "| 1           | 10     | INSERT      | 2019-01-01 10:00:00   | 1                 |\n",
    "| 1           | 10     | INSERT      | 2019-01-01 10:00:00   | 1                 |\n",
    "| 1           | 10     | UPDATE      | 2019-01-01 10:30:00   | 2                 |\n",
    "| 1           | 20     | UPDATE      | 2019-01-01 11:00:00   | 3                 |\n",
    "| 1           | 20     | DELETE      | 2019-01-01 12:00:00   | 4                 |\n",
    "| 1           | 10     | INSERT      | 2019-01-01 14:00:00   | 5                 |"
   ]
  },
  {
   "cell_type": "markdown",
   "metadata": {},
   "source": [
    "### CTE 1: deduplicated_cdc\n",
    "* Deduplicates rows where all fields (excluding CDC_LOG_POSITION) are identical. Here, the first two rows are duplicates, so one is removed.\n",
    "\n",
    "| PRODUCT_KEY | STATUS | CHANGE_TYPE | CHANGE_TIME           | CDC_LOG_POSITION |\n",
    "|-------------|--------|-------------|------------------------|-------------------|\n",
    "| 1           | 10     | INSERT      | 2019-01-01 10:00:00   | 1                 |\n",
    "| 1           | 10     | UPDATE      | 2019-01-01 10:30:00   | 2                 |\n",
    "| 1           | 20     | UPDATE      | 2019-01-01 11:00:00   | 3                 |\n",
    "| 1           | 20     | DELETE      | 2019-01-01 12:00:00   | 4                 |\n",
    "| 1           | 10     | INSERT      | 2019-01-01 14:00:00   | 5                 |"
   ]
  },
  {
   "cell_type": "markdown",
   "metadata": {},
   "source": [
    "### CTE 2: hash_table_1\n",
    "* Computes _hash_1 for each row based on the STATUS and CHANGE_TYPE.\n",
    "* Sets _valued_changed_1 to TRUE for rows where _hash_1 differs from the previous row’s _hash_1.\n",
    "\n",
    "| PRODUCT_KEY | STATUS | CHANGE_TYPE | CHANGE_TIME           | CDC_LOG_POSITION | _hash_1      | _previous_hash_1 | _valued_changed_1 |\n",
    "|-------------|--------|-------------|------------------------|-------------------|--------------|------------------|--------------------|\n",
    "| 1           | 10     | INSERT      | 2019-01-01 10:00:00   | 1                 | hash(10)     | NULL             | TRUE               |\n",
    "| 1           | 10     | UPDATE      | 2019-01-01 10:30:00   | 2                 | hash(10)     | hash(10)         | FALSE              |\n",
    "| 1           | 20     | UPDATE      | 2019-01-01 11:00:00   | 3                 | hash(20)     | hash(10)         | TRUE               |\n",
    "| 1           | 20     | DELETE      | 2019-01-01 12:00:00   | 4                 | hash(20, del)| hash(20)         | TRUE               |\n",
    "| 1           | 10     | INSERT      | 2019-01-01 14:00:00   | 5                 | hash(10)     | hash(20, del)    | TRUE               |\n"
   ]
  },
  {
   "cell_type": "markdown",
   "metadata": {},
   "source": [
    "### CTE 3: hash_table_2\n",
    "* Filters rows to retain only those where _valued_changed_1 is TRUE\n",
    "\n",
    "| PRODUCT_KEY | STATUS | CHANGE_TYPE | CHANGE_TIME           | CDC_LOG_POSITION |\n",
    "|-------------|--------|-------------|------------------------|-------------------|\n",
    "| 1           | 10     | INSERT      | 2019-01-01 10:00:00   | 1                 |\n",
    "| 1           | 20     | UPDATE      | 2019-01-01 11:00:00   | 3                 |\n",
    "| 1           | 20     | DELETE      | 2019-01-01 12:00:00   | 4                 |\n",
    "| 1           | 10     | INSERT      | 2019-01-01 14:00:00   | 5                 |"
   ]
  },
  {
   "cell_type": "markdown",
   "metadata": {},
   "source": [
    "### CTE 4: final_table\n",
    "* Adds the is_active column, where DELETE rows are marked is_active = FALSE.\n",
    "\n",
    "| PRODUCT_KEY | STATUS | CHANGE_TYPE | CHANGE_TIME           | CDC_LOG_POSITION | is_active |\n",
    "|-------------|--------|-------------|------------------------|-------------------|-----------|\n",
    "| 1           | 10     | INSERT      | 2019-01-01 10:00:00   | 1                 | TRUE      |\n",
    "| 1           | 20     | UPDATE      | 2019-01-01 11:00:00   | 3                 | TRUE      |\n",
    "| 1           | 20     | DELETE      | 2019-01-01 12:00:00   | 4                 | FALSE     |\n",
    "| 1           | 10     | INSERT      | 2019-01-01 14:00:00   | 5                 | TRUE      |"
   ]
  },
  {
   "cell_type": "markdown",
   "metadata": {},
   "source": [
    "### CTE 5: scd_table\n",
    "* Calculates scd_start_time and scd_end_time. The scd_end_time uses LEAD to set the end time to the next CHANGE_TIME (or default future date if none).\n",
    "* The DELETE row closes the previous status\n",
    "\n",
    "| product_status_product_key | product_status_status | scd_start_time         | scd_end_time           | is_active |\n",
    "|----------------------------|-----------------------|-------------------------|-------------------------|-----------|\n",
    "| 1                          | 10                    | 2019-01-01 10:00:00    | 2019-01-01 11:00:00     | TRUE      |\n",
    "| 1                          | 20                    | 2019-01-01 11:00:00    | 2019-01-01 12:00:00     | TRUE      |\n",
    "| 1                          | 20                    | 2019-01-01 12:00:00    | 2019-01-01 12:00:00     | FALSE     |\n",
    "| 1                          | 10                    | 2019-01-01 14:00:00    | 2999-01-01 00:00:00     | TRUE      |"
   ]
  },
  {
   "cell_type": "markdown",
   "metadata": {},
   "source": [
    "### Final Select\n",
    "* Filters for is_active = TRUE and assigns ROW_NUMBER() to product_status_scd_key, ordered by product_status_product_key and scd_start_time.\n",
    "\n",
    "| product_status_scd_key | product_status_product_key | product_status_status | scd_start_time         | scd_end_time           |\n",
    "|-------------------------|----------------------------|-----------------------|-------------------------|-------------------------|\n",
    "| 1                       | 1                          | 10                    | 2019-01-01 10:00:00    | 2019-01-01 11:00:00     |\n",
    "| 2                       | 1                          | 20                    | 2019-01-01 11:00:00    | 2019-01-01 12:00:00     |\n",
    "| 3                       | 1                          | 10                    | 2019-01-01 14:00:00    | 2999-01-01 00:00:00     |\n"
   ]
  },
  {
   "cell_type": "markdown",
   "metadata": {},
   "source": [
    "## Queries"
   ]
  },
  {
   "cell_type": "markdown",
   "metadata": {},
   "source": [
    "```sql\n",
    "-- Distinc Products for a given state and date\n",
    "SELECT DISTINCT product_status_product_key AS product_key\n",
    "FROM CAIOCVELASCO.DATA_ENGINEER.PRODUCT_STATUS_HST\n",
    "WHERE product_status_status = '10'  -- Replace 'your_state_value' with the actual state you want to test\n",
    "  AND scd_start_time <= CAST('2019-01-01' AS TIMESTAMP_NTZ) + INTERVAL '1 DAY' - INTERVAL '1 SECOND'  -- Replace '2024-10-29' with your desired test date\n",
    "  AND scd_end_time >= CAST('2019-01-01' AS TIMESTAMP_NTZ);  -- Replace '2024-10-29' with the same date as above\n",
    "```\n",
    "\n",
    "* This query is designed to select distinct products that were in a given state (product_status_status = '10') during a specific date range, with particular focus on historical records of product statuses from the PRODUCT_STATUS_HST table.\n",
    "\n",
    "Result set:\n",
    "| product_key |\n",
    "|-------------|\n",
    "| 1           |"
   ]
  },
  {
   "cell_type": "markdown",
   "metadata": {},
   "source": [
    "## Data Quality"
   ]
  },
  {
   "cell_type": "markdown",
   "metadata": {},
   "source": [
    "### Query 1 - Check for Existence of Product Keys\n",
    "\n",
    "```sql\n",
    "-- 1. Check for Existence of Product Keys\n",
    "-- Ensure that all unique product keys in the CDC table exist in the SCD table.\n",
    "-- Outcome: If any product keys are returned, it indicates that those keys are missing in the SCD table.\n",
    "SELECT DISTINCT cdc.product_key\n",
    "FROM CAIOCVELASCO.DATA_ENGINEER.PRODUCT_STATUS_CDC AS cdc\n",
    "LEFT JOIN CAIOCVELASCO.DATA_ENGINEER.PRODUCT_STATUS_HST AS scd\n",
    "ON cdc.product_key = scd.product_status_product_key\n",
    "WHERE scd.product_status_product_key IS NULL;\n",
    "```\n",
    "\n",
    "Result set:\n",
    "| product_key |\n",
    "|-------------|\n",
    "| EMPTY       |"
   ]
  },
  {
   "cell_type": "markdown",
   "metadata": {},
   "source": [
    "### Query 2 - Check for Duplicates in SCD\n",
    "\n",
    "```sql\n",
    "-- 2. Check for Duplicates in SCD\n",
    "-- Ensure that there are no duplicate records for the same product key in the SCD table.\n",
    "-- Outcome: If any rows are returned, it indicates that there are duplicates for those product keys in the SCD table.\n",
    "SELECT product_status_scd_key, product_status_product_key, product_status_status, scd_start_time, scd_end_time, COUNT(*) AS duplicate_count\n",
    "FROM CAIOCVELASCO.DATA_ENGINEER.PRODUCT_STATUS_HST\n",
    "GROUP BY product_status_scd_key, product_status_product_key, product_status_status, scd_start_time, scd_end_time\n",
    "HAVING COUNT(*) > 1;\n",
    "```\n",
    "\n",
    "Result set:\n",
    "| product_status_product_key | product_status_status | scd_start_time | scd_end_time | duplicate_count |\n",
    "|----------------------------|-----------------------|----------------|--------------|-----------------|\n",
    "| EMPTY                      | EMPTY                 | EMPTY          | EMPTY        | EMPTY           |"
   ]
  },
  {
   "cell_type": "markdown",
   "metadata": {},
   "source": [
    "### Query 3 - Cross Check for Active Records with CDC Table\n",
    "\n",
    "\n",
    "  ```sql\n",
    "-- 3. Check for Active Records\n",
    "-- Verify that all active records in the SCD table (where scd_end_time is a future date, e.g., 2999-01-01) \n",
    "-- correspond to entries in the CDC table. This ensures that the current status of a product is accurately represented.\n",
    "-- Outcome: If there are any active records in the SCD table that do not have a matching product key in the CDC table, they will be returned, indicating a potential inconsistency in the data.\n",
    "SELECT DISTINCT s.product_status_product_key\n",
    "FROM CAIOCVELASCO.DATA_ENGINEER.PRODUCT_STATUS_HST s\n",
    "LEFT JOIN CAIOCVELASCO.DATA_ENGINEER.PRODUCT_STATUS_CDC c\n",
    "ON s.product_status_product_key = c.product_key\n",
    "WHERE s.scd_end_time = '2999-01-01 00:00:00' -- Active records\n",
    "  AND c.product_key IS NULL; -- Check for missing entries in CDC (This condition checks for records in the SCD table that do not have a corresponding entry in the CDC table. If the product_key from the CDC table is NULL, it means that there was no match for that product_status_product_key, indicating that there is an active record in the SCD table that isn’t represented in the CDC table.)\n",
    "```\n",
    "\n",
    "Result set:\n",
    "| product_status_product_key |\n",
    "|----------------------------|\n",
    "| EMPTY                      |"
   ]
  },
  {
   "cell_type": "markdown",
   "metadata": {},
   "source": [
    "### Query 4 - Last Status Consistency Check\n",
    "* The WHERE clause ensures that we only select the rows where there is a discrepancy between the latest status in the CDC table and the corresponding active status in the SCD table.\n",
    "* Specifically, the query looks for:\n",
    "    * No matching status in the SCD table (s.rn <> 1 or s.product_status_status IS NULL).\n",
    "    * A mismatch between the statuses in the SCD and CDC tables (s.product_status_status <> c.latest_status).\n",
    "```sql\n",
    "WITH latest_cdc AS (\n",
    "    -- Retrieve the latest status for each product key from the CDC table\n",
    "    SELECT \n",
    "        product_key,\n",
    "        status AS latest_status,\n",
    "        -- ROW_NUMBER() OVER (PARTITION BY product_key ORDER BY change_time DESC) AS rn\n",
    "        ROW_NUMBER() OVER (PARTITION BY product_key ORDER BY change_time DESC, cdc_log_position DESC) AS rn -- rn = 1 to the latest status\n",
    "    FROM CAIOCVELASCO.DATA_ENGINEER.PRODUCT_STATUS_CDC\n",
    "),\n",
    "\n",
    "latest_scd AS (\n",
    "    -- Get the latest active status for each product key from the SCD table\n",
    "    SELECT \n",
    "        product_status_product_key,\n",
    "        product_status_status,\n",
    "        ROW_NUMBER() OVER (PARTITION BY product_status_product_key ORDER BY scd_start_time DESC) AS rn\n",
    "        -- ROW_NUMBER() OVER (PARTITION BY product_key ORDER BY change_time DESC, cdc_log_position DESC) AS rn\n",
    "    FROM CAIOCVELASCO.DATA_ENGINEER.PRODUCT_STATUS_HST\n",
    "    WHERE scd_end_time = '2999-01-01 00:00:00' -- Only consider active records\n",
    ")\n",
    "\n",
    "SELECT \n",
    "    c.product_key,\n",
    "    c.latest_status AS cdc_latest_status,\n",
    "    s.product_status_status AS scd_latest_status\n",
    "FROM latest_cdc c\n",
    "LEFT JOIN latest_scd s ON c.product_key = s.product_status_product_key\n",
    "WHERE c.rn = 1 -- Get the latest status from CDC and combine with the one from SCD\n",
    "    AND (s.rn <> 1 OR s.product_status_status IS NULL -- Ensure no matching status in SCD or no active status\n",
    "         OR s.product_status_status <> c.latest_status); -- Check if the status is different\n",
    "```\n",
    "\n",
    "Result set:\n",
    "| product_key |cdc_latest_status |scd_latest_status |\n",
    "|-------------|------------------|------------------|\n",
    "| EMPTY       | EMPTY            | EMPTY            |"
   ]
  }
 ],
 "metadata": {
  "language_info": {
   "name": "python"
  }
 },
 "nbformat": 4,
 "nbformat_minor": 2
}
